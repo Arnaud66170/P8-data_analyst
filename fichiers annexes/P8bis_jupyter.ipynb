{
 "cells": [
  {
   "cell_type": "markdown",
   "id": "9e96dfc8",
   "metadata": {},
   "source": [
    "# 1 - importations"
   ]
  },
  {
   "cell_type": "markdown",
   "id": "074f2104",
   "metadata": {},
   "source": [
    "## 1.1 Librairies"
   ]
  },
  {
   "cell_type": "code",
   "execution_count": 1,
   "id": "7e5cd774",
   "metadata": {},
   "outputs": [],
   "source": [
    "import pandas as pd\n",
    "import numpy as np\n",
    "import matplotlib\n",
    "import matplotlib.pyplot as plt\n",
    "matplotlib.use(\"tkAgg\")\n",
    "%matplotlib inline\n",
    "import seaborn as sns\n",
    "from ydata_profiling import ProfileReport"
   ]
  },
  {
   "cell_type": "markdown",
   "id": "b1ab14dc",
   "metadata": {},
   "source": [
    "## 1.2 Données"
   ]
  },
  {
   "cell_type": "code",
   "execution_count": 2,
   "id": "dad5274f",
   "metadata": {},
   "outputs": [],
   "source": [
    "management = pd.read_csv(\"BasicAndSafelyManagedDrinkingWaterServices.csv\")\n",
    "mortality = pd.read_csv(\"MortalityRateAttributedToWater.csv\")\n",
    "politic = pd.read_csv(\"PoliticalStability.csv\")\n",
    "population = pd.read_csv(\"Population.csv\")\n",
    "regions = pd.read_csv(\"RegionCountry.csv\")"
   ]
  },
  {
   "cell_type": "markdown",
   "id": "5291c5f5",
   "metadata": {},
   "source": [
    "# 2 - Analyse des dataframes"
   ]
  },
  {
   "cell_type": "code",
   "execution_count": 3,
   "id": "91b6d9f4",
   "metadata": {},
   "outputs": [],
   "source": [
    "profile_management = ProfileReport(management, minimal=True)\n",
    "profile_management.to_file(\"profile_management.html\")"
   ]
  },
  {
   "cell_type": "code",
   "execution_count": 4,
   "id": "c1185e7d",
   "metadata": {},
   "outputs": [],
   "source": [
    "profile_mortality = ProfileReport(mortality, minimal=True)\n",
    "profile_mortality.to_file(\"profile_mortality.html\")"
   ]
  },
  {
   "cell_type": "code",
   "execution_count": 5,
   "id": "7d444a0b",
   "metadata": {},
   "outputs": [],
   "source": [
    "profile_politic = ProfileReport(politic, minimal=True)\n",
    "profile_politic.to_file(\"profile_politic.html\")"
   ]
  },
  {
   "cell_type": "code",
   "execution_count": 6,
   "id": "d85bd5ae",
   "metadata": {},
   "outputs": [],
   "source": [
    "profile_population = ProfileReport(population, minimal=True)\n",
    "profile_population.to_file(\"profile_population.html\")"
   ]
  },
  {
   "cell_type": "code",
   "execution_count": 7,
   "id": "2a58af8e",
   "metadata": {},
   "outputs": [],
   "source": [
    "profile_regions = ProfileReport(regions, minimal=True)\n",
    "profile_regions.to_file(\"profile_regions.html\")"
   ]
  },
  {
   "cell_type": "markdown",
   "id": "d9334e69",
   "metadata": {},
   "source": [
    "# 3 - Nettoyage de données"
   ]
  },
  {
   "cell_type": "markdown",
   "id": "139ffd3e",
   "metadata": {},
   "source": [
    "## 3.1 - df management"
   ]
  },
  {
   "cell_type": "code",
   "execution_count": 3,
   "id": "fa1df99a",
   "metadata": {},
   "outputs": [],
   "source": [
    "management.rename(columns=\n",
    "    {\n",
    "        \"Year\":\"annee\",\n",
    "        \"Country\":\"pays\",\n",
    "        \"Granularity\":\"granularite\",\n",
    "        \"Population using at least basic drinking-water services (%)\":\"ratio acces eau de base\",\n",
    "        \"Population using safely managed drinking-water services (%)\":\"ratio acces eau qualite\"     \n",
    "    },\n",
    "  inplace = True\n",
    ")"
   ]
  },
  {
   "cell_type": "code",
   "execution_count": 4,
   "id": "278de26b",
   "metadata": {},
   "outputs": [],
   "source": [
    "management[\"ratio acces eau de base\"] = round(management[\"ratio acces eau de base\"],2)\n",
    "management[\"ratio acces eau qualite\"] = round(management[\"ratio acces eau qualite\"],2)\n",
    "management[\"ratio acces eau de base\"] = management[\"ratio acces eau de base\"].fillna(0)\n",
    "management[\"ratio acces eau qualite\"] = management[\"ratio acces eau qualite\"].fillna(0)"
   ]
  },
  {
   "cell_type": "code",
   "execution_count": 5,
   "id": "13538b3a",
   "metadata": {},
   "outputs": [
    {
     "data": {
      "text/html": [
       "<div>\n",
       "<style scoped>\n",
       "    .dataframe tbody tr th:only-of-type {\n",
       "        vertical-align: middle;\n",
       "    }\n",
       "\n",
       "    .dataframe tbody tr th {\n",
       "        vertical-align: top;\n",
       "    }\n",
       "\n",
       "    .dataframe thead th {\n",
       "        text-align: right;\n",
       "    }\n",
       "</style>\n",
       "<table border=\"1\" class=\"dataframe\">\n",
       "  <thead>\n",
       "    <tr style=\"text-align: right;\">\n",
       "      <th></th>\n",
       "      <th>annee</th>\n",
       "      <th>pays</th>\n",
       "      <th>granularite</th>\n",
       "      <th>ratio acces eau de base</th>\n",
       "      <th>ratio acces eau qualite</th>\n",
       "    </tr>\n",
       "  </thead>\n",
       "  <tbody>\n",
       "    <tr>\n",
       "      <th>0</th>\n",
       "      <td>2000</td>\n",
       "      <td>Afghanistan</td>\n",
       "      <td>Rural</td>\n",
       "      <td>21.62</td>\n",
       "      <td>0.00</td>\n",
       "    </tr>\n",
       "    <tr>\n",
       "      <th>1</th>\n",
       "      <td>2000</td>\n",
       "      <td>Afghanistan</td>\n",
       "      <td>Total</td>\n",
       "      <td>27.77</td>\n",
       "      <td>0.00</td>\n",
       "    </tr>\n",
       "    <tr>\n",
       "      <th>2</th>\n",
       "      <td>2000</td>\n",
       "      <td>Afghanistan</td>\n",
       "      <td>Urban</td>\n",
       "      <td>49.49</td>\n",
       "      <td>0.00</td>\n",
       "    </tr>\n",
       "    <tr>\n",
       "      <th>3</th>\n",
       "      <td>2000</td>\n",
       "      <td>Albania</td>\n",
       "      <td>Rural</td>\n",
       "      <td>81.78</td>\n",
       "      <td>0.00</td>\n",
       "    </tr>\n",
       "    <tr>\n",
       "      <th>4</th>\n",
       "      <td>2000</td>\n",
       "      <td>Albania</td>\n",
       "      <td>Total</td>\n",
       "      <td>87.87</td>\n",
       "      <td>49.29</td>\n",
       "    </tr>\n",
       "  </tbody>\n",
       "</table>\n",
       "</div>"
      ],
      "text/plain": [
       "   annee         pays granularite  ratio acces eau de base  \\\n",
       "0   2000  Afghanistan       Rural                    21.62   \n",
       "1   2000  Afghanistan       Total                    27.77   \n",
       "2   2000  Afghanistan       Urban                    49.49   \n",
       "3   2000      Albania       Rural                    81.78   \n",
       "4   2000      Albania       Total                    87.87   \n",
       "\n",
       "   ratio acces eau qualite  \n",
       "0                     0.00  \n",
       "1                     0.00  \n",
       "2                     0.00  \n",
       "3                     0.00  \n",
       "4                    49.29  "
      ]
     },
     "execution_count": 5,
     "metadata": {},
     "output_type": "execute_result"
    }
   ],
   "source": [
    "management.head()"
   ]
  },
  {
   "cell_type": "code",
   "execution_count": 6,
   "id": "60b0f499",
   "metadata": {},
   "outputs": [],
   "source": [
    "management.to_csv(\"management4.csv\")\n",
    "management.to_excel(\"management4.xlsx\")"
   ]
  },
  {
   "cell_type": "markdown",
   "id": "0bbfaa43",
   "metadata": {},
   "source": [
    "## 3.2 - df mortality"
   ]
  },
  {
   "cell_type": "code",
   "execution_count": 7,
   "id": "34232cad",
   "metadata": {},
   "outputs": [],
   "source": [
    "mortality.rename(columns=\n",
    "    {\n",
    "        \"Year\":\"annee\",\n",
    "        \"Country\":\"pays\",\n",
    "        \"Granularity\":\"granularite\",\n",
    "        \"Mortality rate attributed to exposure to unsafe WASH services\":\"décès pour 100000 habitants\",\n",
    "        \"WASH deaths\":\"nb morts eau insalubre\"     \n",
    "    },\n",
    "  inplace = True\n",
    ")"
   ]
  },
  {
   "cell_type": "code",
   "execution_count": 8,
   "id": "00d70018",
   "metadata": {},
   "outputs": [
    {
     "data": {
      "text/html": [
       "<div>\n",
       "<style scoped>\n",
       "    .dataframe tbody tr th:only-of-type {\n",
       "        vertical-align: middle;\n",
       "    }\n",
       "\n",
       "    .dataframe tbody tr th {\n",
       "        vertical-align: top;\n",
       "    }\n",
       "\n",
       "    .dataframe thead th {\n",
       "        text-align: right;\n",
       "    }\n",
       "</style>\n",
       "<table border=\"1\" class=\"dataframe\">\n",
       "  <thead>\n",
       "    <tr style=\"text-align: right;\">\n",
       "      <th></th>\n",
       "      <th>annee</th>\n",
       "      <th>pays</th>\n",
       "      <th>granularite</th>\n",
       "      <th>décès pour 100000 habitants</th>\n",
       "      <th>nb morts eau insalubre</th>\n",
       "    </tr>\n",
       "  </thead>\n",
       "  <tbody>\n",
       "    <tr>\n",
       "      <th>0</th>\n",
       "      <td>2016</td>\n",
       "      <td>Afghanistan</td>\n",
       "      <td>Female</td>\n",
       "      <td>15.31</td>\n",
       "      <td>0</td>\n",
       "    </tr>\n",
       "    <tr>\n",
       "      <th>1</th>\n",
       "      <td>2016</td>\n",
       "      <td>Afghanistan</td>\n",
       "      <td>Male</td>\n",
       "      <td>12.61</td>\n",
       "      <td>0</td>\n",
       "    </tr>\n",
       "    <tr>\n",
       "      <th>2</th>\n",
       "      <td>2016</td>\n",
       "      <td>Afghanistan</td>\n",
       "      <td>Total</td>\n",
       "      <td>13.92</td>\n",
       "      <td>4824</td>\n",
       "    </tr>\n",
       "    <tr>\n",
       "      <th>3</th>\n",
       "      <td>2016</td>\n",
       "      <td>Albania</td>\n",
       "      <td>Female</td>\n",
       "      <td>0.13</td>\n",
       "      <td>0</td>\n",
       "    </tr>\n",
       "    <tr>\n",
       "      <th>4</th>\n",
       "      <td>2016</td>\n",
       "      <td>Albania</td>\n",
       "      <td>Male</td>\n",
       "      <td>0.21</td>\n",
       "      <td>0</td>\n",
       "    </tr>\n",
       "  </tbody>\n",
       "</table>\n",
       "</div>"
      ],
      "text/plain": [
       "   annee         pays granularite  décès pour 100000 habitants  \\\n",
       "0   2016  Afghanistan      Female                        15.31   \n",
       "1   2016  Afghanistan        Male                        12.61   \n",
       "2   2016  Afghanistan       Total                        13.92   \n",
       "3   2016      Albania      Female                         0.13   \n",
       "4   2016      Albania        Male                         0.21   \n",
       "\n",
       "   nb morts eau insalubre  \n",
       "0                       0  \n",
       "1                       0  \n",
       "2                    4824  \n",
       "3                       0  \n",
       "4                       0  "
      ]
     },
     "execution_count": 8,
     "metadata": {},
     "output_type": "execute_result"
    }
   ],
   "source": [
    "mortality[\"décès pour 100000 habitants\"] = round(mortality[\"décès pour 100000 habitants\"],2)\n",
    "mortality[\"nb morts eau insalubre\"] = round(mortality[\"nb morts eau insalubre\"]).fillna(0).astype(int)\n",
    "mortality.head()"
   ]
  },
  {
   "cell_type": "code",
   "execution_count": 9,
   "id": "df87452f",
   "metadata": {},
   "outputs": [
    {
     "data": {
      "text/plain": [
       "array([2016], dtype=int64)"
      ]
     },
     "execution_count": 9,
     "metadata": {},
     "output_type": "execute_result"
    }
   ],
   "source": [
    "mortality[\"annee\"].unique()"
   ]
  },
  {
   "cell_type": "code",
   "execution_count": 10,
   "id": "22b9103a",
   "metadata": {},
   "outputs": [],
   "source": [
    "mortality.to_csv(\"mortality4.csv\")\n",
    "mortality.to_excel(\"mortality4.xlsx\")"
   ]
  },
  {
   "cell_type": "markdown",
   "id": "9fa41013",
   "metadata": {},
   "source": [
    "## 3.3 - df politic"
   ]
  },
  {
   "cell_type": "code",
   "execution_count": 11,
   "id": "b12b4807",
   "metadata": {},
   "outputs": [],
   "source": [
    "politic.rename(columns=\n",
    "    {        \n",
    "        \"Country\":\"pays\",\n",
    "        \"Year\":\"annee\",\n",
    "        \"Political_Stability\":\"stabilite politique\",\n",
    "        \"Granularity\":\"granularite\"\n",
    "    },\n",
    "  inplace = True\n",
    ")"
   ]
  },
  {
   "cell_type": "code",
   "execution_count": 12,
   "id": "bab13b3c",
   "metadata": {},
   "outputs": [],
   "source": [
    "politic[\"pays\"] = politic[\"pays\"].replace({\"North Macedonia\":\"Republic of North Macedonia\"})"
   ]
  },
  {
   "cell_type": "code",
   "execution_count": 13,
   "id": "c483f3e9",
   "metadata": {},
   "outputs": [],
   "source": [
    "del politic[\"granularite\"]"
   ]
  },
  {
   "cell_type": "code",
   "execution_count": 14,
   "id": "259fe17c",
   "metadata": {},
   "outputs": [],
   "source": [
    "politic_chine = pd.DataFrame({\n",
    "    \"pays\":[\"China\",\"China\",\"China\",\"China\",\"China\",\"China\",\"China\",\"China\",\"China\",\"China\",\"China\",\"China\",\"China\",\"China\",\"China\",\"China\",\"China\",\"China\"],\n",
    "     \"annee\":[2000,2002,2003,2004,2005,2006,2007,2008,2009,2010,2011,2012,2013,2014,2015,2016,2017,2018],\n",
    "     \"stabilite politique\":[0.44,0.46,0.54,0.68,0.70,0.58,0.40,0.50,0.43,0.43,0.48,0.50,0.50,0.65,0.66,0.65,0.72,0.66]\n",
    " }) \n",
    "#utilisation de la méthode \"concat()\".\n",
    "politic = pd.concat([politic,politic_chine], ignore_index = True)\n"
   ]
  },
  {
   "cell_type": "code",
   "execution_count": 15,
   "id": "1ab46aba",
   "metadata": {},
   "outputs": [
    {
     "data": {
      "text/html": [
       "<div>\n",
       "<style scoped>\n",
       "    .dataframe tbody tr th:only-of-type {\n",
       "        vertical-align: middle;\n",
       "    }\n",
       "\n",
       "    .dataframe tbody tr th {\n",
       "        vertical-align: top;\n",
       "    }\n",
       "\n",
       "    .dataframe thead th {\n",
       "        text-align: right;\n",
       "    }\n",
       "</style>\n",
       "<table border=\"1\" class=\"dataframe\">\n",
       "  <thead>\n",
       "    <tr style=\"text-align: right;\">\n",
       "      <th></th>\n",
       "      <th>pays</th>\n",
       "      <th>annee</th>\n",
       "      <th>stabilite politique</th>\n",
       "    </tr>\n",
       "  </thead>\n",
       "  <tbody>\n",
       "    <tr>\n",
       "      <th>0</th>\n",
       "      <td>Afghanistan</td>\n",
       "      <td>2000</td>\n",
       "      <td>-2.44</td>\n",
       "    </tr>\n",
       "    <tr>\n",
       "      <th>1</th>\n",
       "      <td>Afghanistan</td>\n",
       "      <td>2002</td>\n",
       "      <td>-2.04</td>\n",
       "    </tr>\n",
       "    <tr>\n",
       "      <th>2</th>\n",
       "      <td>Afghanistan</td>\n",
       "      <td>2003</td>\n",
       "      <td>-2.20</td>\n",
       "    </tr>\n",
       "    <tr>\n",
       "      <th>3</th>\n",
       "      <td>Afghanistan</td>\n",
       "      <td>2004</td>\n",
       "      <td>-2.30</td>\n",
       "    </tr>\n",
       "    <tr>\n",
       "      <th>4</th>\n",
       "      <td>Afghanistan</td>\n",
       "      <td>2005</td>\n",
       "      <td>-2.07</td>\n",
       "    </tr>\n",
       "  </tbody>\n",
       "</table>\n",
       "</div>"
      ],
      "text/plain": [
       "          pays  annee  stabilite politique\n",
       "0  Afghanistan   2000                -2.44\n",
       "1  Afghanistan   2002                -2.04\n",
       "2  Afghanistan   2003                -2.20\n",
       "3  Afghanistan   2004                -2.30\n",
       "4  Afghanistan   2005                -2.07"
      ]
     },
     "execution_count": 15,
     "metadata": {},
     "output_type": "execute_result"
    }
   ],
   "source": [
    "politic.head()"
   ]
  },
  {
   "cell_type": "code",
   "execution_count": 16,
   "id": "6ea72597",
   "metadata": {},
   "outputs": [],
   "source": [
    "politic.to_csv(\"politic4.csv\")\n",
    "politic.to_excel(\"politic4.xlsx\")"
   ]
  },
  {
   "cell_type": "markdown",
   "id": "1d23b198",
   "metadata": {},
   "source": [
    "## 3.4 - df population"
   ]
  },
  {
   "cell_type": "code",
   "execution_count": 3,
   "id": "763a479f",
   "metadata": {},
   "outputs": [],
   "source": [
    "population.rename(columns=\n",
    "    {\n",
    "        \"Country\":\"pays\",\n",
    "        \"Granularity\":\"granularite\",\n",
    "        \"Year\":\"annee\",\n",
    "        \"Population\":\"population\"      \n",
    "    },\n",
    "  inplace = True\n",
    ")"
   ]
  },
  {
   "cell_type": "code",
   "execution_count": 4,
   "id": "d1340d08",
   "metadata": {},
   "outputs": [],
   "source": [
    "population[\"pays\"] = population[\"pays\"].replace({\"North Macedonia\":\"Republic of North Macedonia\"})\n",
    "population[\"pays\"] = population[\"pays\"].replace({\"Sudan (former)\":\"Sudan\"})"
   ]
  },
  {
   "cell_type": "code",
   "execution_count": 5,
   "id": "8f0581ac",
   "metadata": {},
   "outputs": [
    {
     "data": {
      "text/html": [
       "<div>\n",
       "<style scoped>\n",
       "    .dataframe tbody tr th:only-of-type {\n",
       "        vertical-align: middle;\n",
       "    }\n",
       "\n",
       "    .dataframe tbody tr th {\n",
       "        vertical-align: top;\n",
       "    }\n",
       "\n",
       "    .dataframe thead th {\n",
       "        text-align: right;\n",
       "    }\n",
       "</style>\n",
       "<table border=\"1\" class=\"dataframe\">\n",
       "  <thead>\n",
       "    <tr style=\"text-align: right;\">\n",
       "      <th></th>\n",
       "      <th>pays</th>\n",
       "      <th>granularite</th>\n",
       "      <th>annee</th>\n",
       "      <th>population</th>\n",
       "    </tr>\n",
       "  </thead>\n",
       "  <tbody>\n",
       "    <tr>\n",
       "      <th>0</th>\n",
       "      <td>Afghanistan</td>\n",
       "      <td>Total</td>\n",
       "      <td>2000</td>\n",
       "      <td>20779953</td>\n",
       "    </tr>\n",
       "    <tr>\n",
       "      <th>1</th>\n",
       "      <td>Afghanistan</td>\n",
       "      <td>Male</td>\n",
       "      <td>2000</td>\n",
       "      <td>10689508</td>\n",
       "    </tr>\n",
       "    <tr>\n",
       "      <th>2</th>\n",
       "      <td>Afghanistan</td>\n",
       "      <td>Female</td>\n",
       "      <td>2000</td>\n",
       "      <td>10090449</td>\n",
       "    </tr>\n",
       "    <tr>\n",
       "      <th>3</th>\n",
       "      <td>Afghanistan</td>\n",
       "      <td>Rural</td>\n",
       "      <td>2000</td>\n",
       "      <td>15657474</td>\n",
       "    </tr>\n",
       "    <tr>\n",
       "      <th>4</th>\n",
       "      <td>Afghanistan</td>\n",
       "      <td>Urban</td>\n",
       "      <td>2000</td>\n",
       "      <td>4436282</td>\n",
       "    </tr>\n",
       "  </tbody>\n",
       "</table>\n",
       "</div>"
      ],
      "text/plain": [
       "          pays granularite  annee  population\n",
       "0  Afghanistan       Total   2000    20779953\n",
       "1  Afghanistan        Male   2000    10689508\n",
       "2  Afghanistan      Female   2000    10090449\n",
       "3  Afghanistan       Rural   2000    15657474\n",
       "4  Afghanistan       Urban   2000     4436282"
      ]
     },
     "execution_count": 5,
     "metadata": {},
     "output_type": "execute_result"
    }
   ],
   "source": [
    "population[\"population\"]=(population[\"population\"]*1000).astype(int)\n",
    "population.head()"
   ]
  },
  {
   "cell_type": "code",
   "execution_count": 6,
   "id": "43378d2b",
   "metadata": {},
   "outputs": [],
   "source": [
    "population.to_csv(\"population4.csv\")\n",
    "population.to_excel(\"population4.xlsx\")"
   ]
  },
  {
   "cell_type": "markdown",
   "id": "26ff3fe6",
   "metadata": {},
   "source": [
    "## 3.5 - df regions"
   ]
  },
  {
   "cell_type": "code",
   "execution_count": 21,
   "id": "0e1a5f2e",
   "metadata": {},
   "outputs": [],
   "source": [
    "regions.rename(columns=\n",
    "    {\n",
    "        \"REGION (DISPLAY)\":\"region\",\n",
    "        \"COUNTRY (DISPLAY)\":\"pays\"\n",
    "    },\n",
    "    inplace=True\n",
    ")"
   ]
  },
  {
   "cell_type": "code",
   "execution_count": 22,
   "id": "63b99edf",
   "metadata": {},
   "outputs": [],
   "source": [
    "#création d'un dictionnaire \"regions_chines\", où j'ajoute les régions composant la chine.\n",
    "regions_chine = pd.DataFrame({\n",
    "    \"pays\":[\"China, Hong Kong SAR\",\"China, Macao SAR\",\"China, mainland\",\"China, Taiwan Province of\"],\n",
    "     \"region\":[\"Western Pacific\",\"Western Pacific\",\"Western Pacific\",\"Western Pacific\"]\n",
    " }) \n",
    "#utilisation de la méthode \"concat()\".\n",
    "regions = pd.concat([regions,regions_chine], ignore_index = True)"
   ]
  },
  {
   "cell_type": "code",
   "execution_count": 23,
   "id": "f939841c",
   "metadata": {},
   "outputs": [],
   "source": [
    "# Création d'un dictionnaire \"territoires\", afin de leur désigner une région pour les pays n'en ayant pas d'assignée .\n",
    "\n",
    "territoires = pd.DataFrame({\n",
    "    \"pays\"  : [\"Aruba\",\"Channel Islands\",\"Curaçao\",\"French Guyana\",\"French Polynesia\",\"Guadeloupe\",\"Guam\",\"Martinique\",\"Mayotte\",\"Netherlands Antilles (former)\",\n",
    "               \"New Caledonia\",\"Palestine\",\"Puerto Rico\",\"Réunion\",\"Serbia and Montenegro\",\"United States Virgin Islands\",\"Western Sahara\",\"American Samoa\",\n",
    "               \"Anguilla\",\"Bermuda\",\"Bonaire, Sint Eustatius and Saba\",\"British Virgin Islands\",\"Cayman Islands\",\"Falkland Islands (Malvinas)\",\"Faroe Islands\",\"Gibraltar\",\"Greenland\",\"Holy See\",\n",
    "               \"Isle of Man\",\"Liechtenstein\",\"Montserrat\",\"Northern Mariana Islands\",\"Saint Barthélemy\",\"Saint Helena, Ascension and Tristan da Cunha\",\"Saint Pierre and Miquelon\",\"Saint-Martin (French part)\",\"Tokelau\",\"Turks and Caicos Islands\",\n",
    "               \"Wallis and Futuna Islands\",\"Sint Maarten  (Dutch part)\",\"Montenegro\"],\n",
    "    \"region\" : [\"Americas\",\"Europe\",\"Americas\",\"Americas\",\"Western Pacific\",\"Americas\",\"Western Pacific\",\"Americas\",\"Africa\",\"Americas\",\n",
    "                \"Western Pacific\",\"Eastern Mediterranean\",\"Americas\",\"Africa\",\"Europe\",\"Americas\",\"Africa\",\"Western Pacific\",\n",
    "                \"Americas\",\"Americas\",\"Americas\",\"Americas\",\"Americas\",\"Americas\",\"Europe\",\"Europe\",\"Europe\",\"Europe\",\n",
    "                \"Europe\",\"Europe\",\"Americas\",\"Western Pacific\",\"Americas\",\"Europe\",\"Americas\",\"Americas\",\"Western Pacific\",\"Americas\",\n",
    "                \"Western Pacific\",\"Americas\",\"Europe\"]\n",
    "    })\n",
    "\n",
    "regions = pd.concat([regions,territoires], ignore_index = True)"
   ]
  },
  {
   "cell_type": "code",
   "execution_count": 24,
   "id": "ad139f59",
   "metadata": {},
   "outputs": [],
   "source": [
    "regions.loc[regions[\"pays\"] == \"Sudan\", \"region\"] = \"Africa\"\n",
    "regions.loc[regions[\"pays\"] == \"Morocco\", \"region\"] = \"Africa\"\n",
    "regions.loc[regions[\"pays\"] == \"Libya\", \"region\"] = \"Africa\"\n",
    "regions.loc[regions[\"pays\"] == \"Egypt\", \"region\"] = \"Africa\"\n",
    "regions.loc[regions[\"pays\"] == \"Tunisia\", \"region\"] = \"Africa\"\n",
    "regions.loc[regions[\"pays\"] == \"Somalia\", \"region\"] = \"Africa \"\n",
    "regions.loc[regions[\"pays\"] == \"Djibouti\", \"region\"] = \"Africa \"\n",
    "regions.loc[regions[\"pays\"] == \"Turkey\", \"region\"] = \"Eastern Mediterranean\"\n",
    "regions.loc[regions[\"pays\"] == \"Israel\", \"region\"] = \"Eastern Mediterranean\"\n",
    "regions.loc[regions[\"pays\"] == \"Azerbaijan\", \"region\"] = \"Eastern Mediterranean\"\n",
    "regions.loc[regions[\"pays\"] == \"Armenia\", \"region\"] = \"Eastern Mediterranean\""
   ]
  },
  {
   "cell_type": "code",
   "execution_count": 25,
   "id": "a53c14cd",
   "metadata": {},
   "outputs": [
    {
     "data": {
      "text/html": [
       "<div>\n",
       "<style scoped>\n",
       "    .dataframe tbody tr th:only-of-type {\n",
       "        vertical-align: middle;\n",
       "    }\n",
       "\n",
       "    .dataframe tbody tr th {\n",
       "        vertical-align: top;\n",
       "    }\n",
       "\n",
       "    .dataframe thead th {\n",
       "        text-align: right;\n",
       "    }\n",
       "</style>\n",
       "<table border=\"1\" class=\"dataframe\">\n",
       "  <thead>\n",
       "    <tr style=\"text-align: right;\">\n",
       "      <th></th>\n",
       "      <th>region</th>\n",
       "      <th>pays</th>\n",
       "    </tr>\n",
       "  </thead>\n",
       "  <tbody>\n",
       "    <tr>\n",
       "      <th>0</th>\n",
       "      <td>Europe</td>\n",
       "      <td>Albania</td>\n",
       "    </tr>\n",
       "    <tr>\n",
       "      <th>1</th>\n",
       "      <td>Europe</td>\n",
       "      <td>Andorra</td>\n",
       "    </tr>\n",
       "    <tr>\n",
       "      <th>2</th>\n",
       "      <td>Eastern Mediterranean</td>\n",
       "      <td>Armenia</td>\n",
       "    </tr>\n",
       "    <tr>\n",
       "      <th>3</th>\n",
       "      <td>Western Pacific</td>\n",
       "      <td>Australia</td>\n",
       "    </tr>\n",
       "    <tr>\n",
       "      <th>4</th>\n",
       "      <td>Europe</td>\n",
       "      <td>Austria</td>\n",
       "    </tr>\n",
       "  </tbody>\n",
       "</table>\n",
       "</div>"
      ],
      "text/plain": [
       "                  region       pays\n",
       "0                 Europe    Albania\n",
       "1                 Europe    Andorra\n",
       "2  Eastern Mediterranean    Armenia\n",
       "3        Western Pacific  Australia\n",
       "4                 Europe    Austria"
      ]
     },
     "execution_count": 25,
     "metadata": {},
     "output_type": "execute_result"
    }
   ],
   "source": [
    "regions.head()"
   ]
  },
  {
   "cell_type": "code",
   "execution_count": 26,
   "id": "777ff9c1",
   "metadata": {},
   "outputs": [],
   "source": [
    "regions.to_csv(\"regions4.csv\")\n",
    "regions.to_excel(\"regions4.xlsx\")"
   ]
  },
  {
   "cell_type": "markdown",
   "id": "ba11a47a",
   "metadata": {},
   "source": [
    "# 4 - dataframes par indicateurs"
   ]
  },
  {
   "cell_type": "markdown",
   "id": "485a1ca3",
   "metadata": {},
   "source": [
    "## 4.1 - Populations / granularité"
   ]
  },
  {
   "cell_type": "code",
   "execution_count": 7,
   "id": "bad94d42",
   "metadata": {},
   "outputs": [
    {
     "data": {
      "text/html": [
       "<div>\n",
       "<style scoped>\n",
       "    .dataframe tbody tr th:only-of-type {\n",
       "        vertical-align: middle;\n",
       "    }\n",
       "\n",
       "    .dataframe tbody tr th {\n",
       "        vertical-align: top;\n",
       "    }\n",
       "\n",
       "    .dataframe thead th {\n",
       "        text-align: right;\n",
       "    }\n",
       "</style>\n",
       "<table border=\"1\" class=\"dataframe\">\n",
       "  <thead>\n",
       "    <tr style=\"text-align: right;\">\n",
       "      <th></th>\n",
       "      <th>pays</th>\n",
       "      <th>annee</th>\n",
       "      <th>population hommes</th>\n",
       "    </tr>\n",
       "  </thead>\n",
       "  <tbody>\n",
       "    <tr>\n",
       "      <th>1</th>\n",
       "      <td>Afghanistan</td>\n",
       "      <td>2000</td>\n",
       "      <td>10689508</td>\n",
       "    </tr>\n",
       "    <tr>\n",
       "      <th>6</th>\n",
       "      <td>Afghanistan</td>\n",
       "      <td>2001</td>\n",
       "      <td>11117754</td>\n",
       "    </tr>\n",
       "    <tr>\n",
       "      <th>11</th>\n",
       "      <td>Afghanistan</td>\n",
       "      <td>2002</td>\n",
       "      <td>11642106</td>\n",
       "    </tr>\n",
       "    <tr>\n",
       "      <th>16</th>\n",
       "      <td>Afghanistan</td>\n",
       "      <td>2003</td>\n",
       "      <td>12214634</td>\n",
       "    </tr>\n",
       "    <tr>\n",
       "      <th>21</th>\n",
       "      <td>Afghanistan</td>\n",
       "      <td>2004</td>\n",
       "      <td>12763726</td>\n",
       "    </tr>\n",
       "  </tbody>\n",
       "</table>\n",
       "</div>"
      ],
      "text/plain": [
       "           pays  annee  population hommes\n",
       "1   Afghanistan   2000           10689508\n",
       "6   Afghanistan   2001           11117754\n",
       "11  Afghanistan   2002           11642106\n",
       "16  Afghanistan   2003           12214634\n",
       "21  Afghanistan   2004           12763726"
      ]
     },
     "execution_count": 7,
     "metadata": {},
     "output_type": "execute_result"
    }
   ],
   "source": [
    "population_male = population.loc[population[\"granularite\"]==\"Male\",:].copy()\n",
    "\n",
    "population_male.rename(columns=\n",
    "    {\n",
    "        \"population\":\"population hommes\"\n",
    "    },\n",
    "    inplace=True\n",
    ")\n",
    "\n",
    "del population_male[\"granularite\"]\n",
    "\n",
    "population_male.head()"
   ]
  },
  {
   "cell_type": "code",
   "execution_count": 8,
   "id": "81c310c7",
   "metadata": {},
   "outputs": [],
   "source": [
    "population_male.to_csv(\"population_male4.csv\")\n",
    "population_male.to_excel(\"population_male4.xlsx\")"
   ]
  },
  {
   "cell_type": "code",
   "execution_count": 9,
   "id": "2b784711",
   "metadata": {},
   "outputs": [
    {
     "data": {
      "text/html": [
       "<div>\n",
       "<style scoped>\n",
       "    .dataframe tbody tr th:only-of-type {\n",
       "        vertical-align: middle;\n",
       "    }\n",
       "\n",
       "    .dataframe tbody tr th {\n",
       "        vertical-align: top;\n",
       "    }\n",
       "\n",
       "    .dataframe thead th {\n",
       "        text-align: right;\n",
       "    }\n",
       "</style>\n",
       "<table border=\"1\" class=\"dataframe\">\n",
       "  <thead>\n",
       "    <tr style=\"text-align: right;\">\n",
       "      <th></th>\n",
       "      <th>pays</th>\n",
       "      <th>annee</th>\n",
       "      <th>population femmes</th>\n",
       "    </tr>\n",
       "  </thead>\n",
       "  <tbody>\n",
       "    <tr>\n",
       "      <th>2</th>\n",
       "      <td>Afghanistan</td>\n",
       "      <td>2000</td>\n",
       "      <td>10090449</td>\n",
       "    </tr>\n",
       "    <tr>\n",
       "      <th>7</th>\n",
       "      <td>Afghanistan</td>\n",
       "      <td>2001</td>\n",
       "      <td>10489238</td>\n",
       "    </tr>\n",
       "    <tr>\n",
       "      <th>12</th>\n",
       "      <td>Afghanistan</td>\n",
       "      <td>2002</td>\n",
       "      <td>10958668</td>\n",
       "    </tr>\n",
       "    <tr>\n",
       "      <th>17</th>\n",
       "      <td>Afghanistan</td>\n",
       "      <td>2003</td>\n",
       "      <td>11466237</td>\n",
       "    </tr>\n",
       "    <tr>\n",
       "      <th>22</th>\n",
       "      <td>Afghanistan</td>\n",
       "      <td>2004</td>\n",
       "      <td>11962963</td>\n",
       "    </tr>\n",
       "  </tbody>\n",
       "</table>\n",
       "</div>"
      ],
      "text/plain": [
       "           pays  annee  population femmes\n",
       "2   Afghanistan   2000           10090449\n",
       "7   Afghanistan   2001           10489238\n",
       "12  Afghanistan   2002           10958668\n",
       "17  Afghanistan   2003           11466237\n",
       "22  Afghanistan   2004           11962963"
      ]
     },
     "execution_count": 9,
     "metadata": {},
     "output_type": "execute_result"
    }
   ],
   "source": [
    "population_female = population.loc[population[\"granularite\"]==\"Female\",:].copy()\n",
    "\n",
    "population_female.rename(columns=\n",
    "    {\n",
    "        \"population\":\"population femmes\"\n",
    "    },\n",
    "    inplace=True\n",
    ")\n",
    "\n",
    "del population_female[\"granularite\"]\n",
    "\n",
    "population_female.head()"
   ]
  },
  {
   "cell_type": "code",
   "execution_count": 10,
   "id": "4c3ac268",
   "metadata": {},
   "outputs": [],
   "source": [
    "population_female.to_csv(\"population_female4.csv\")\n",
    "population_female.to_excel(\"population_female4.xlsx\")"
   ]
  },
  {
   "cell_type": "code",
   "execution_count": 11,
   "id": "547b4120",
   "metadata": {},
   "outputs": [
    {
     "data": {
      "text/html": [
       "<div>\n",
       "<style scoped>\n",
       "    .dataframe tbody tr th:only-of-type {\n",
       "        vertical-align: middle;\n",
       "    }\n",
       "\n",
       "    .dataframe tbody tr th {\n",
       "        vertical-align: top;\n",
       "    }\n",
       "\n",
       "    .dataframe thead th {\n",
       "        text-align: right;\n",
       "    }\n",
       "</style>\n",
       "<table border=\"1\" class=\"dataframe\">\n",
       "  <thead>\n",
       "    <tr style=\"text-align: right;\">\n",
       "      <th></th>\n",
       "      <th>pays</th>\n",
       "      <th>annee</th>\n",
       "      <th>population rurale</th>\n",
       "    </tr>\n",
       "  </thead>\n",
       "  <tbody>\n",
       "    <tr>\n",
       "      <th>3</th>\n",
       "      <td>Afghanistan</td>\n",
       "      <td>2000</td>\n",
       "      <td>15657474</td>\n",
       "    </tr>\n",
       "    <tr>\n",
       "      <th>8</th>\n",
       "      <td>Afghanistan</td>\n",
       "      <td>2001</td>\n",
       "      <td>16318324</td>\n",
       "    </tr>\n",
       "    <tr>\n",
       "      <th>13</th>\n",
       "      <td>Afghanistan</td>\n",
       "      <td>2002</td>\n",
       "      <td>17086910</td>\n",
       "    </tr>\n",
       "    <tr>\n",
       "      <th>18</th>\n",
       "      <td>Afghanistan</td>\n",
       "      <td>2003</td>\n",
       "      <td>17909063</td>\n",
       "    </tr>\n",
       "    <tr>\n",
       "      <th>23</th>\n",
       "      <td>Afghanistan</td>\n",
       "      <td>2004</td>\n",
       "      <td>18692107</td>\n",
       "    </tr>\n",
       "  </tbody>\n",
       "</table>\n",
       "</div>"
      ],
      "text/plain": [
       "           pays  annee  population rurale\n",
       "3   Afghanistan   2000           15657474\n",
       "8   Afghanistan   2001           16318324\n",
       "13  Afghanistan   2002           17086910\n",
       "18  Afghanistan   2003           17909063\n",
       "23  Afghanistan   2004           18692107"
      ]
     },
     "execution_count": 11,
     "metadata": {},
     "output_type": "execute_result"
    }
   ],
   "source": [
    "population_rurale = population.loc[population[\"granularite\"]==\"Rural\",:].copy()\n",
    "\n",
    "population_rurale.rename(columns=\n",
    "    {\n",
    "        \"population\":\"population rurale\"\n",
    "    },\n",
    "    inplace=True\n",
    ")\n",
    "\n",
    "del population_rurale[\"granularite\"]\n",
    "\n",
    "population_rurale.head()"
   ]
  },
  {
   "cell_type": "code",
   "execution_count": 12,
   "id": "43419ead",
   "metadata": {},
   "outputs": [],
   "source": [
    "population_rurale.to_csv(\"population_rurale4.csv\")\n",
    "population_rurale.to_excel(\"population_rurale4.xlsx\")"
   ]
  },
  {
   "cell_type": "code",
   "execution_count": 13,
   "id": "5aa08019",
   "metadata": {},
   "outputs": [
    {
     "data": {
      "text/html": [
       "<div>\n",
       "<style scoped>\n",
       "    .dataframe tbody tr th:only-of-type {\n",
       "        vertical-align: middle;\n",
       "    }\n",
       "\n",
       "    .dataframe tbody tr th {\n",
       "        vertical-align: top;\n",
       "    }\n",
       "\n",
       "    .dataframe thead th {\n",
       "        text-align: right;\n",
       "    }\n",
       "</style>\n",
       "<table border=\"1\" class=\"dataframe\">\n",
       "  <thead>\n",
       "    <tr style=\"text-align: right;\">\n",
       "      <th></th>\n",
       "      <th>pays</th>\n",
       "      <th>annee</th>\n",
       "      <th>population urbaine</th>\n",
       "    </tr>\n",
       "  </thead>\n",
       "  <tbody>\n",
       "    <tr>\n",
       "      <th>4</th>\n",
       "      <td>Afghanistan</td>\n",
       "      <td>2000</td>\n",
       "      <td>4436282</td>\n",
       "    </tr>\n",
       "    <tr>\n",
       "      <th>9</th>\n",
       "      <td>Afghanistan</td>\n",
       "      <td>2001</td>\n",
       "      <td>4648139</td>\n",
       "    </tr>\n",
       "    <tr>\n",
       "      <th>14</th>\n",
       "      <td>Afghanistan</td>\n",
       "      <td>2002</td>\n",
       "      <td>4893013</td>\n",
       "    </tr>\n",
       "    <tr>\n",
       "      <th>19</th>\n",
       "      <td>Afghanistan</td>\n",
       "      <td>2003</td>\n",
       "      <td>5155788</td>\n",
       "    </tr>\n",
       "    <tr>\n",
       "      <th>24</th>\n",
       "      <td>Afghanistan</td>\n",
       "      <td>2004</td>\n",
       "      <td>5426872</td>\n",
       "    </tr>\n",
       "  </tbody>\n",
       "</table>\n",
       "</div>"
      ],
      "text/plain": [
       "           pays  annee  population urbaine\n",
       "4   Afghanistan   2000             4436282\n",
       "9   Afghanistan   2001             4648139\n",
       "14  Afghanistan   2002             4893013\n",
       "19  Afghanistan   2003             5155788\n",
       "24  Afghanistan   2004             5426872"
      ]
     },
     "execution_count": 13,
     "metadata": {},
     "output_type": "execute_result"
    }
   ],
   "source": [
    "population_urbaine = population.loc[population[\"granularite\"]==\"Urban\",:].copy()\n",
    "\n",
    "population_urbaine.rename(columns=\n",
    "    {\n",
    "        \"population\":\"population urbaine\"\n",
    "    },\n",
    "    inplace=True\n",
    ")\n",
    "\n",
    "del population_urbaine[\"granularite\"]\n",
    "\n",
    "population_urbaine.head()"
   ]
  },
  {
   "cell_type": "code",
   "execution_count": 14,
   "id": "3804df82",
   "metadata": {},
   "outputs": [],
   "source": [
    "population_urbaine.to_csv(\"population_urbaine4.csv\")\n",
    "population_urbaine.to_excel(\"population_urbaine4.xlsx\")"
   ]
  },
  {
   "cell_type": "code",
   "execution_count": 15,
   "id": "3162d5aa",
   "metadata": {},
   "outputs": [
    {
     "data": {
      "text/html": [
       "<div>\n",
       "<style scoped>\n",
       "    .dataframe tbody tr th:only-of-type {\n",
       "        vertical-align: middle;\n",
       "    }\n",
       "\n",
       "    .dataframe tbody tr th {\n",
       "        vertical-align: top;\n",
       "    }\n",
       "\n",
       "    .dataframe thead th {\n",
       "        text-align: right;\n",
       "    }\n",
       "</style>\n",
       "<table border=\"1\" class=\"dataframe\">\n",
       "  <thead>\n",
       "    <tr style=\"text-align: right;\">\n",
       "      <th></th>\n",
       "      <th>pays</th>\n",
       "      <th>annee</th>\n",
       "      <th>population totale</th>\n",
       "    </tr>\n",
       "  </thead>\n",
       "  <tbody>\n",
       "    <tr>\n",
       "      <th>0</th>\n",
       "      <td>Afghanistan</td>\n",
       "      <td>2000</td>\n",
       "      <td>20779953</td>\n",
       "    </tr>\n",
       "    <tr>\n",
       "      <th>5</th>\n",
       "      <td>Afghanistan</td>\n",
       "      <td>2001</td>\n",
       "      <td>21606988</td>\n",
       "    </tr>\n",
       "    <tr>\n",
       "      <th>10</th>\n",
       "      <td>Afghanistan</td>\n",
       "      <td>2002</td>\n",
       "      <td>22600770</td>\n",
       "    </tr>\n",
       "    <tr>\n",
       "      <th>15</th>\n",
       "      <td>Afghanistan</td>\n",
       "      <td>2003</td>\n",
       "      <td>23680871</td>\n",
       "    </tr>\n",
       "    <tr>\n",
       "      <th>20</th>\n",
       "      <td>Afghanistan</td>\n",
       "      <td>2004</td>\n",
       "      <td>24726684</td>\n",
       "    </tr>\n",
       "  </tbody>\n",
       "</table>\n",
       "</div>"
      ],
      "text/plain": [
       "           pays  annee  population totale\n",
       "0   Afghanistan   2000           20779953\n",
       "5   Afghanistan   2001           21606988\n",
       "10  Afghanistan   2002           22600770\n",
       "15  Afghanistan   2003           23680871\n",
       "20  Afghanistan   2004           24726684"
      ]
     },
     "execution_count": 15,
     "metadata": {},
     "output_type": "execute_result"
    }
   ],
   "source": [
    "population_totale = population.loc[population[\"granularite\"]==\"Total\",:].copy()\n",
    "\n",
    "population_totale.rename(columns=\n",
    "    {\n",
    "        \"population\":\"population totale\"\n",
    "    },\n",
    "    inplace=True\n",
    ")\n",
    "\n",
    "del population_totale[\"granularite\"]\n",
    "\n",
    "population_totale.head()"
   ]
  },
  {
   "cell_type": "code",
   "execution_count": 16,
   "id": "126b3d78",
   "metadata": {},
   "outputs": [],
   "source": [
    "population_totale.to_csv(\"population_totale4.csv\")\n",
    "population_totale.to_excel(\"population_totale4.xlsx\")"
   ]
  },
  {
   "cell_type": "code",
   "execution_count": 37,
   "id": "dc16c539",
   "metadata": {},
   "outputs": [],
   "source": [
    "#population_sansChine = population.drop(population[population[\"pays\"]==\"China\"].index)\n",
    "#print(population_sansChine)"
   ]
  },
  {
   "cell_type": "code",
   "execution_count": 38,
   "id": "b5b41a7e",
   "metadata": {},
   "outputs": [],
   "source": [
    "#population_sansChine.to_csv(\"population_sansChine.csv\")"
   ]
  },
  {
   "cell_type": "markdown",
   "id": "c4f9e2aa",
   "metadata": {},
   "source": [
    "## 4.2 - Mortalité / granularité"
   ]
  },
  {
   "cell_type": "code",
   "execution_count": 39,
   "id": "257c2733",
   "metadata": {},
   "outputs": [
    {
     "data": {
      "text/html": [
       "<div>\n",
       "<style scoped>\n",
       "    .dataframe tbody tr th:only-of-type {\n",
       "        vertical-align: middle;\n",
       "    }\n",
       "\n",
       "    .dataframe tbody tr th {\n",
       "        vertical-align: top;\n",
       "    }\n",
       "\n",
       "    .dataframe thead th {\n",
       "        text-align: right;\n",
       "    }\n",
       "</style>\n",
       "<table border=\"1\" class=\"dataframe\">\n",
       "  <thead>\n",
       "    <tr style=\"text-align: right;\">\n",
       "      <th></th>\n",
       "      <th>annee</th>\n",
       "      <th>pays</th>\n",
       "      <th>décès femmes/100.000 habitants</th>\n",
       "      <th>nb morts femmes</th>\n",
       "    </tr>\n",
       "  </thead>\n",
       "  <tbody>\n",
       "    <tr>\n",
       "      <th>0</th>\n",
       "      <td>2016</td>\n",
       "      <td>Afghanistan</td>\n",
       "      <td>15.31</td>\n",
       "      <td>0</td>\n",
       "    </tr>\n",
       "    <tr>\n",
       "      <th>3</th>\n",
       "      <td>2016</td>\n",
       "      <td>Albania</td>\n",
       "      <td>0.13</td>\n",
       "      <td>0</td>\n",
       "    </tr>\n",
       "    <tr>\n",
       "      <th>6</th>\n",
       "      <td>2016</td>\n",
       "      <td>Algeria</td>\n",
       "      <td>2.20</td>\n",
       "      <td>0</td>\n",
       "    </tr>\n",
       "    <tr>\n",
       "      <th>9</th>\n",
       "      <td>2016</td>\n",
       "      <td>Angola</td>\n",
       "      <td>45.15</td>\n",
       "      <td>0</td>\n",
       "    </tr>\n",
       "    <tr>\n",
       "      <th>12</th>\n",
       "      <td>2016</td>\n",
       "      <td>Antigua and Barbuda</td>\n",
       "      <td>0.10</td>\n",
       "      <td>0</td>\n",
       "    </tr>\n",
       "  </tbody>\n",
       "</table>\n",
       "</div>"
      ],
      "text/plain": [
       "    annee                 pays  décès femmes/100.000 habitants  \\\n",
       "0    2016          Afghanistan                           15.31   \n",
       "3    2016              Albania                            0.13   \n",
       "6    2016              Algeria                            2.20   \n",
       "9    2016               Angola                           45.15   \n",
       "12   2016  Antigua and Barbuda                            0.10   \n",
       "\n",
       "    nb morts femmes  \n",
       "0                 0  \n",
       "3                 0  \n",
       "6                 0  \n",
       "9                 0  \n",
       "12                0  "
      ]
     },
     "execution_count": 39,
     "metadata": {},
     "output_type": "execute_result"
    }
   ],
   "source": [
    "mortality_female = mortality.loc[mortality[\"granularite\"]==\"Female\",:].copy()\n",
    "\n",
    "mortality_female.rename(columns=\n",
    "    {\n",
    "        \"décès pour 100000 habitants\":\"décès femmes/100.000 habitants\",\n",
    "        \"nb morts eau insalubre\":\"nb morts femmes\"\n",
    "    },\n",
    "    inplace=True\n",
    ")\n",
    "\n",
    "del mortality_female[\"granularite\"]\n",
    "\n",
    "mortality_female.head()"
   ]
  },
  {
   "cell_type": "code",
   "execution_count": 40,
   "id": "852a4a3c",
   "metadata": {},
   "outputs": [],
   "source": [
    "mortality_female.to_csv(\"mortality_female4.csv\")\n",
    "mortality_female.to_excel(\"mortality_female4.xlsx\")"
   ]
  },
  {
   "cell_type": "code",
   "execution_count": 41,
   "id": "9ad05a82",
   "metadata": {},
   "outputs": [
    {
     "data": {
      "text/html": [
       "<div>\n",
       "<style scoped>\n",
       "    .dataframe tbody tr th:only-of-type {\n",
       "        vertical-align: middle;\n",
       "    }\n",
       "\n",
       "    .dataframe tbody tr th {\n",
       "        vertical-align: top;\n",
       "    }\n",
       "\n",
       "    .dataframe thead th {\n",
       "        text-align: right;\n",
       "    }\n",
       "</style>\n",
       "<table border=\"1\" class=\"dataframe\">\n",
       "  <thead>\n",
       "    <tr style=\"text-align: right;\">\n",
       "      <th></th>\n",
       "      <th>annee</th>\n",
       "      <th>pays</th>\n",
       "      <th>décès hommes/100.000 habitants</th>\n",
       "      <th>nb morts hommes</th>\n",
       "    </tr>\n",
       "  </thead>\n",
       "  <tbody>\n",
       "    <tr>\n",
       "      <th>1</th>\n",
       "      <td>2016</td>\n",
       "      <td>Afghanistan</td>\n",
       "      <td>12.61</td>\n",
       "      <td>0</td>\n",
       "    </tr>\n",
       "    <tr>\n",
       "      <th>4</th>\n",
       "      <td>2016</td>\n",
       "      <td>Albania</td>\n",
       "      <td>0.21</td>\n",
       "      <td>0</td>\n",
       "    </tr>\n",
       "    <tr>\n",
       "      <th>7</th>\n",
       "      <td>2016</td>\n",
       "      <td>Algeria</td>\n",
       "      <td>1.73</td>\n",
       "      <td>0</td>\n",
       "    </tr>\n",
       "    <tr>\n",
       "      <th>10</th>\n",
       "      <td>2016</td>\n",
       "      <td>Angola</td>\n",
       "      <td>52.63</td>\n",
       "      <td>0</td>\n",
       "    </tr>\n",
       "    <tr>\n",
       "      <th>13</th>\n",
       "      <td>2016</td>\n",
       "      <td>Antigua and Barbuda</td>\n",
       "      <td>0.12</td>\n",
       "      <td>0</td>\n",
       "    </tr>\n",
       "  </tbody>\n",
       "</table>\n",
       "</div>"
      ],
      "text/plain": [
       "    annee                 pays  décès hommes/100.000 habitants  \\\n",
       "1    2016          Afghanistan                           12.61   \n",
       "4    2016              Albania                            0.21   \n",
       "7    2016              Algeria                            1.73   \n",
       "10   2016               Angola                           52.63   \n",
       "13   2016  Antigua and Barbuda                            0.12   \n",
       "\n",
       "    nb morts hommes  \n",
       "1                 0  \n",
       "4                 0  \n",
       "7                 0  \n",
       "10                0  \n",
       "13                0  "
      ]
     },
     "execution_count": 41,
     "metadata": {},
     "output_type": "execute_result"
    }
   ],
   "source": [
    "mortality_male = mortality.loc[mortality[\"granularite\"]==\"Male\",:].copy()\n",
    "\n",
    "mortality_male.rename(columns=\n",
    "    {\n",
    "        \"décès pour 100000 habitants\":\"décès hommes/100.000 habitants\",\n",
    "        \"nb morts eau insalubre\":\"nb morts hommes\"\n",
    "    },\n",
    "    inplace=True\n",
    ")\n",
    "\n",
    "del mortality_male[\"granularite\"]\n",
    "\n",
    "mortality_male.head()"
   ]
  },
  {
   "cell_type": "code",
   "execution_count": 42,
   "id": "04cbee54",
   "metadata": {},
   "outputs": [],
   "source": [
    "mortality_male.to_csv(\"mortality_male4.csv\")\n",
    "mortality_male.to_excel(\"mortality_male4.xlsx\")"
   ]
  },
  {
   "cell_type": "code",
   "execution_count": 43,
   "id": "3b448524",
   "metadata": {},
   "outputs": [
    {
     "data": {
      "text/html": [
       "<div>\n",
       "<style scoped>\n",
       "    .dataframe tbody tr th:only-of-type {\n",
       "        vertical-align: middle;\n",
       "    }\n",
       "\n",
       "    .dataframe tbody tr th {\n",
       "        vertical-align: top;\n",
       "    }\n",
       "\n",
       "    .dataframe thead th {\n",
       "        text-align: right;\n",
       "    }\n",
       "</style>\n",
       "<table border=\"1\" class=\"dataframe\">\n",
       "  <thead>\n",
       "    <tr style=\"text-align: right;\">\n",
       "      <th></th>\n",
       "      <th>annee</th>\n",
       "      <th>pays</th>\n",
       "      <th>décès total/100.000 habitants</th>\n",
       "      <th>nb morts total</th>\n",
       "    </tr>\n",
       "  </thead>\n",
       "  <tbody>\n",
       "    <tr>\n",
       "      <th>2</th>\n",
       "      <td>2016</td>\n",
       "      <td>Afghanistan</td>\n",
       "      <td>13.92</td>\n",
       "      <td>4824</td>\n",
       "    </tr>\n",
       "    <tr>\n",
       "      <th>5</th>\n",
       "      <td>2016</td>\n",
       "      <td>Albania</td>\n",
       "      <td>0.17</td>\n",
       "      <td>5</td>\n",
       "    </tr>\n",
       "    <tr>\n",
       "      <th>8</th>\n",
       "      <td>2016</td>\n",
       "      <td>Algeria</td>\n",
       "      <td>1.87</td>\n",
       "      <td>758</td>\n",
       "    </tr>\n",
       "    <tr>\n",
       "      <th>11</th>\n",
       "      <td>2016</td>\n",
       "      <td>Angola</td>\n",
       "      <td>48.81</td>\n",
       "      <td>14065</td>\n",
       "    </tr>\n",
       "    <tr>\n",
       "      <th>14</th>\n",
       "      <td>2016</td>\n",
       "      <td>Antigua and Barbuda</td>\n",
       "      <td>0.11</td>\n",
       "      <td>0</td>\n",
       "    </tr>\n",
       "  </tbody>\n",
       "</table>\n",
       "</div>"
      ],
      "text/plain": [
       "    annee                 pays  décès total/100.000 habitants  nb morts total\n",
       "2    2016          Afghanistan                          13.92            4824\n",
       "5    2016              Albania                           0.17               5\n",
       "8    2016              Algeria                           1.87             758\n",
       "11   2016               Angola                          48.81           14065\n",
       "14   2016  Antigua and Barbuda                           0.11               0"
      ]
     },
     "execution_count": 43,
     "metadata": {},
     "output_type": "execute_result"
    }
   ],
   "source": [
    "mortality_total = mortality.loc[mortality[\"granularite\"]==\"Total\",:].copy()\n",
    "\n",
    "mortality_total.rename(columns=\n",
    "    {\n",
    "        \"décès pour 100000 habitants\":\"décès total/100.000 habitants\",\n",
    "        \"nb morts eau insalubre\":\"nb morts total\"\n",
    "    },\n",
    "    inplace=True\n",
    ")\n",
    "\n",
    "del mortality_total[\"granularite\"]\n",
    "\n",
    "mortality_total.head()"
   ]
  },
  {
   "cell_type": "code",
   "execution_count": 44,
   "id": "48cf0aaf",
   "metadata": {},
   "outputs": [],
   "source": [
    "mortality_total.to_csv(\"mortality_total4.csv\")\n",
    "mortality_total.to_excel(\"mortality_total4.xlsx\")"
   ]
  },
  {
   "cell_type": "markdown",
   "id": "134faf5e",
   "metadata": {},
   "source": [
    "## 4.3 - Management / granularité"
   ]
  },
  {
   "cell_type": "code",
   "execution_count": 45,
   "id": "a473aed5",
   "metadata": {},
   "outputs": [
    {
     "data": {
      "text/html": [
       "<div>\n",
       "<style scoped>\n",
       "    .dataframe tbody tr th:only-of-type {\n",
       "        vertical-align: middle;\n",
       "    }\n",
       "\n",
       "    .dataframe tbody tr th {\n",
       "        vertical-align: top;\n",
       "    }\n",
       "\n",
       "    .dataframe thead th {\n",
       "        text-align: right;\n",
       "    }\n",
       "</style>\n",
       "<table border=\"1\" class=\"dataframe\">\n",
       "  <thead>\n",
       "    <tr style=\"text-align: right;\">\n",
       "      <th></th>\n",
       "      <th>annee</th>\n",
       "      <th>pays</th>\n",
       "      <th>ratio eau de base rural</th>\n",
       "      <th>ratio eau qualite rural</th>\n",
       "    </tr>\n",
       "  </thead>\n",
       "  <tbody>\n",
       "    <tr>\n",
       "      <th>0</th>\n",
       "      <td>2000</td>\n",
       "      <td>Afghanistan</td>\n",
       "      <td>21.62</td>\n",
       "      <td>0.0</td>\n",
       "    </tr>\n",
       "    <tr>\n",
       "      <th>3</th>\n",
       "      <td>2000</td>\n",
       "      <td>Albania</td>\n",
       "      <td>81.78</td>\n",
       "      <td>0.0</td>\n",
       "    </tr>\n",
       "    <tr>\n",
       "      <th>6</th>\n",
       "      <td>2000</td>\n",
       "      <td>Algeria</td>\n",
       "      <td>83.32</td>\n",
       "      <td>0.0</td>\n",
       "    </tr>\n",
       "    <tr>\n",
       "      <th>9</th>\n",
       "      <td>2000</td>\n",
       "      <td>Andorra</td>\n",
       "      <td>100.00</td>\n",
       "      <td>0.0</td>\n",
       "    </tr>\n",
       "    <tr>\n",
       "      <th>12</th>\n",
       "      <td>2000</td>\n",
       "      <td>Angola</td>\n",
       "      <td>21.15</td>\n",
       "      <td>0.0</td>\n",
       "    </tr>\n",
       "  </tbody>\n",
       "</table>\n",
       "</div>"
      ],
      "text/plain": [
       "    annee         pays  ratio eau de base rural  ratio eau qualite rural\n",
       "0    2000  Afghanistan                    21.62                      0.0\n",
       "3    2000      Albania                    81.78                      0.0\n",
       "6    2000      Algeria                    83.32                      0.0\n",
       "9    2000      Andorra                   100.00                      0.0\n",
       "12   2000       Angola                    21.15                      0.0"
      ]
     },
     "execution_count": 45,
     "metadata": {},
     "output_type": "execute_result"
    }
   ],
   "source": [
    "management_rural = management.loc[management[\"granularite\"]==\"Rural\",:].copy()\n",
    "\n",
    "management_rural.rename(columns=\n",
    "    {\n",
    "        \"ratio acces eau de base\":\"ratio eau de base rural\",\n",
    "        \"ratio acces eau qualite\":\"ratio eau qualite rural\"\n",
    "    },\n",
    "    inplace=True\n",
    ")\n",
    "\n",
    "del management_rural[\"granularite\"]\n",
    "\n",
    "management_rural.head()"
   ]
  },
  {
   "cell_type": "code",
   "execution_count": 46,
   "id": "86ce73cc",
   "metadata": {},
   "outputs": [],
   "source": [
    "management_rural.to_csv(\"management_rural4.csv\")\n",
    "management_rural.to_excel(\"management_rural4.xlsx\")"
   ]
  },
  {
   "cell_type": "code",
   "execution_count": 47,
   "id": "1d828fe7",
   "metadata": {},
   "outputs": [
    {
     "data": {
      "text/html": [
       "<div>\n",
       "<style scoped>\n",
       "    .dataframe tbody tr th:only-of-type {\n",
       "        vertical-align: middle;\n",
       "    }\n",
       "\n",
       "    .dataframe tbody tr th {\n",
       "        vertical-align: top;\n",
       "    }\n",
       "\n",
       "    .dataframe thead th {\n",
       "        text-align: right;\n",
       "    }\n",
       "</style>\n",
       "<table border=\"1\" class=\"dataframe\">\n",
       "  <thead>\n",
       "    <tr style=\"text-align: right;\">\n",
       "      <th></th>\n",
       "      <th>annee</th>\n",
       "      <th>pays</th>\n",
       "      <th>ratio eau de base urbain</th>\n",
       "      <th>ratio eau qualite urbain</th>\n",
       "    </tr>\n",
       "  </thead>\n",
       "  <tbody>\n",
       "    <tr>\n",
       "      <th>2</th>\n",
       "      <td>2000</td>\n",
       "      <td>Afghanistan</td>\n",
       "      <td>49.49</td>\n",
       "      <td>0.0</td>\n",
       "    </tr>\n",
       "    <tr>\n",
       "      <th>5</th>\n",
       "      <td>2000</td>\n",
       "      <td>Albania</td>\n",
       "      <td>96.36</td>\n",
       "      <td>0.0</td>\n",
       "    </tr>\n",
       "    <tr>\n",
       "      <th>8</th>\n",
       "      <td>2000</td>\n",
       "      <td>Algeria</td>\n",
       "      <td>94.20</td>\n",
       "      <td>0.0</td>\n",
       "    </tr>\n",
       "    <tr>\n",
       "      <th>11</th>\n",
       "      <td>2000</td>\n",
       "      <td>Andorra</td>\n",
       "      <td>100.00</td>\n",
       "      <td>0.0</td>\n",
       "    </tr>\n",
       "    <tr>\n",
       "      <th>14</th>\n",
       "      <td>2000</td>\n",
       "      <td>Angola</td>\n",
       "      <td>61.07</td>\n",
       "      <td>0.0</td>\n",
       "    </tr>\n",
       "  </tbody>\n",
       "</table>\n",
       "</div>"
      ],
      "text/plain": [
       "    annee         pays  ratio eau de base urbain  ratio eau qualite urbain\n",
       "2    2000  Afghanistan                     49.49                       0.0\n",
       "5    2000      Albania                     96.36                       0.0\n",
       "8    2000      Algeria                     94.20                       0.0\n",
       "11   2000      Andorra                    100.00                       0.0\n",
       "14   2000       Angola                     61.07                       0.0"
      ]
     },
     "execution_count": 47,
     "metadata": {},
     "output_type": "execute_result"
    }
   ],
   "source": [
    "management_urban = management.loc[management[\"granularite\"]==\"Urban\",:].copy()\n",
    "\n",
    "management_urban.rename(columns=\n",
    "    {\n",
    "        \"ratio acces eau de base\":\"ratio eau de base urbain\",\n",
    "        \"ratio acces eau qualite\":\"ratio eau qualite urbain\"\n",
    "    },\n",
    "    inplace=True\n",
    ")\n",
    "\n",
    "del management_urban[\"granularite\"]\n",
    "\n",
    "management_urban.head()"
   ]
  },
  {
   "cell_type": "code",
   "execution_count": 48,
   "id": "8389fc94",
   "metadata": {},
   "outputs": [],
   "source": [
    "management_urban.to_csv(\"management_urban4.csv\")\n",
    "management_urban.to_excel(\"management_urban4.xlsx\")"
   ]
  },
  {
   "cell_type": "code",
   "execution_count": 51,
   "id": "c736d052",
   "metadata": {},
   "outputs": [
    {
     "data": {
      "text/html": [
       "<div>\n",
       "<style scoped>\n",
       "    .dataframe tbody tr th:only-of-type {\n",
       "        vertical-align: middle;\n",
       "    }\n",
       "\n",
       "    .dataframe tbody tr th {\n",
       "        vertical-align: top;\n",
       "    }\n",
       "\n",
       "    .dataframe thead th {\n",
       "        text-align: right;\n",
       "    }\n",
       "</style>\n",
       "<table border=\"1\" class=\"dataframe\">\n",
       "  <thead>\n",
       "    <tr style=\"text-align: right;\">\n",
       "      <th></th>\n",
       "      <th>annee</th>\n",
       "      <th>pays</th>\n",
       "      <th>ratio eau de base total</th>\n",
       "      <th>ratio eau qualite total</th>\n",
       "    </tr>\n",
       "  </thead>\n",
       "  <tbody>\n",
       "    <tr>\n",
       "      <th>1</th>\n",
       "      <td>2000</td>\n",
       "      <td>Afghanistan</td>\n",
       "      <td>27.77</td>\n",
       "      <td>0.00</td>\n",
       "    </tr>\n",
       "    <tr>\n",
       "      <th>4</th>\n",
       "      <td>2000</td>\n",
       "      <td>Albania</td>\n",
       "      <td>87.87</td>\n",
       "      <td>49.29</td>\n",
       "    </tr>\n",
       "    <tr>\n",
       "      <th>7</th>\n",
       "      <td>2000</td>\n",
       "      <td>Algeria</td>\n",
       "      <td>89.84</td>\n",
       "      <td>0.00</td>\n",
       "    </tr>\n",
       "    <tr>\n",
       "      <th>10</th>\n",
       "      <td>2000</td>\n",
       "      <td>Andorra</td>\n",
       "      <td>100.00</td>\n",
       "      <td>90.64</td>\n",
       "    </tr>\n",
       "    <tr>\n",
       "      <th>13</th>\n",
       "      <td>2000</td>\n",
       "      <td>Angola</td>\n",
       "      <td>41.14</td>\n",
       "      <td>0.00</td>\n",
       "    </tr>\n",
       "  </tbody>\n",
       "</table>\n",
       "</div>"
      ],
      "text/plain": [
       "    annee         pays  ratio eau de base total  ratio eau qualite total\n",
       "1    2000  Afghanistan                    27.77                     0.00\n",
       "4    2000      Albania                    87.87                    49.29\n",
       "7    2000      Algeria                    89.84                     0.00\n",
       "10   2000      Andorra                   100.00                    90.64\n",
       "13   2000       Angola                    41.14                     0.00"
      ]
     },
     "execution_count": 51,
     "metadata": {},
     "output_type": "execute_result"
    }
   ],
   "source": [
    "management_total = management.loc[management[\"granularite\"]==\"Total\",:].copy()\n",
    "\n",
    "management_total.rename(columns=\n",
    "    {\n",
    "        \"ratio acces eau de base\":\"ratio eau de base total\",\n",
    "        \"ratio acces eau qualite\":\"ratio eau qualite total\"\n",
    "    },\n",
    "    inplace=True\n",
    ")\n",
    "\n",
    "del management_total[\"granularite\"]\n",
    "\n",
    "management_total.head()"
   ]
  },
  {
   "cell_type": "code",
   "execution_count": 52,
   "id": "7509968a",
   "metadata": {},
   "outputs": [],
   "source": [
    "management_total.to_csv(\"management_total4.csv\")\n",
    "management_total.to_excel(\"management_total4.xlsx\")"
   ]
  },
  {
   "cell_type": "code",
   "execution_count": 65,
   "id": "62196055",
   "metadata": {},
   "outputs": [],
   "source": [
    "#data_final[\"annee\"] = pd.to_datetime(data_final[\"annee\"],format = \"%Y\")"
   ]
  },
  {
   "cell_type": "code",
   "execution_count": null,
   "id": "bb873f28",
   "metadata": {},
   "outputs": [],
   "source": [
    "#data_final.to_csv(\"data_final.csv\")\n",
    "#data_final.to_excel(\"data_final.xlsx\")"
   ]
  }
 ],
 "metadata": {
  "kernelspec": {
   "display_name": "Python 3 (ipykernel)",
   "language": "python",
   "name": "python3"
  },
  "language_info": {
   "codemirror_mode": {
    "name": "ipython",
    "version": 3
   },
   "file_extension": ".py",
   "mimetype": "text/x-python",
   "name": "python",
   "nbconvert_exporter": "python",
   "pygments_lexer": "ipython3",
   "version": "3.9.13"
  }
 },
 "nbformat": 4,
 "nbformat_minor": 5
}
